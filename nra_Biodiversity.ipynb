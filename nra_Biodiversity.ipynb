{
 "cells": [
  {
   "cell_type": "code",
   "execution_count": 2,
   "metadata": {},
   "outputs": [],
   "source": [
    "import pandas as pd\n",
    "import numpy as np\n",
    "import seaborn as sns\n",
    "import matplotlib.pyplot as plt\n",
    "from scipy.stats import chi2_contingency"
   ]
  },
  {
   "cell_type": "code",
   "execution_count": 3,
   "metadata": {},
   "outputs": [
    {
     "name": "stdout",
     "output_type": "stream",
     "text": [
      "                     scientific_name                            park_name  \\\n",
      "0                 Vicia benghalensis  Great Smoky Mountains National Park   \n",
      "1                     Neovison vison  Great Smoky Mountains National Park   \n",
      "2                  Prunus subcordata               Yosemite National Park   \n",
      "3               Abutilon theophrasti                  Bryce National Park   \n",
      "4           Githopsis specularioides  Great Smoky Mountains National Park   \n",
      "5  Elymus virginicus var. virginicus               Yosemite National Park   \n",
      "6                   Spizella pusilla            Yellowstone National Park   \n",
      "7                  Elymus multisetus  Great Smoky Mountains National Park   \n",
      "8             Lysimachia quadrifolia               Yosemite National Park   \n",
      "9         Diphyscium cumberlandianum            Yellowstone National Park   \n",
      "\n",
      "   observations  \n",
      "0            68  \n",
      "1            77  \n",
      "2           138  \n",
      "3            84  \n",
      "4            85  \n",
      "5           112  \n",
      "6           228  \n",
      "7            39  \n",
      "8           168  \n",
      "9           250  \n",
      "<class 'pandas.core.frame.DataFrame'>\n",
      "RangeIndex: 23296 entries, 0 to 23295\n",
      "Data columns (total 3 columns):\n",
      " #   Column           Non-Null Count  Dtype \n",
      "---  ------           --------------  ----- \n",
      " 0   scientific_name  23296 non-null  object\n",
      " 1   park_name        23296 non-null  object\n",
      " 2   observations     23296 non-null  int64 \n",
      "dtypes: int64(1), object(2)\n",
      "memory usage: 546.1+ KB\n",
      "None\n",
      "  category                scientific_name  \\\n",
      "0   Mammal  Clethrionomys gapperi gapperi   \n",
      "1   Mammal                      Bos bison   \n",
      "2   Mammal                     Bos taurus   \n",
      "3   Mammal                     Ovis aries   \n",
      "4   Mammal                 Cervus elaphus   \n",
      "5   Mammal         Odocoileus virginianus   \n",
      "6   Mammal                     Sus scrofa   \n",
      "7   Mammal                  Canis latrans   \n",
      "8   Mammal                    Canis lupus   \n",
      "9   Mammal                    Canis rufus   \n",
      "\n",
      "                                        common_names conservation_status  \n",
      "0                           Gapper's Red-Backed Vole                 NaN  \n",
      "1                              American Bison, Bison                 NaN  \n",
      "2  Aurochs, Aurochs, Domestic Cattle (Feral), Dom...                 NaN  \n",
      "3  Domestic Sheep, Mouflon, Red Sheep, Sheep (Feral)                 NaN  \n",
      "4                                      Wapiti Or Elk                 NaN  \n",
      "5                                  White-Tailed Deer                 NaN  \n",
      "6                                Feral Hog, Wild Pig                 NaN  \n",
      "7                                             Coyote  Species of Concern  \n",
      "8                                          Gray Wolf          Endangered  \n",
      "9                                           Red Wolf          Endangered  \n",
      "<class 'pandas.core.frame.DataFrame'>\n",
      "RangeIndex: 5824 entries, 0 to 5823\n",
      "Data columns (total 4 columns):\n",
      " #   Column               Non-Null Count  Dtype \n",
      "---  ------               --------------  ----- \n",
      " 0   category             5824 non-null   object\n",
      " 1   scientific_name      5824 non-null   object\n",
      " 2   common_names         5824 non-null   object\n",
      " 3   conservation_status  191 non-null    object\n",
      "dtypes: object(4)\n",
      "memory usage: 182.1+ KB\n",
      "None\n",
      "['Vicia benghalensis' 'Neovison vison' 'Prunus subcordata' ...\n",
      " 'Ranunculus hebecarpus' 'Gulo gulo' 'Dichanthelium depauperatum']\n",
      "5541\n",
      "['Great Smoky Mountains National Park' 'Yosemite National Park'\n",
      " 'Bryce National Park' 'Yellowstone National Park']\n",
      "['Mammal' 'Bird' 'Reptile' 'Amphibian' 'Fish' 'Vascular Plant'\n",
      " 'Nonvascular Plant']\n",
      "5541\n",
      "5504\n",
      "[nan 'Species of Concern' 'Endangered' 'Threatened' 'In Recovery']\n"
     ]
    }
   ],
   "source": [
    "Obs = pd.read_csv(r\"C:\\Users\\Nicholas\\Downloads\\datasets\\Biodiversity\\observations.csv\")\n",
    "SpecInfo = pd.read_csv(r\"C:\\Users\\Nicholas\\Downloads\\datasets\\Biodiversity\\species_info.csv\")\n",
    "\n",
    "print(Obs.head(10))\n",
    "print(Obs.info())\n",
    "\n",
    "print(SpecInfo.head(10))\n",
    "print(SpecInfo.info())\n",
    "\n",
    "print(Obs.scientific_name.unique())\n",
    "print(Obs.scientific_name.nunique())\n",
    "print(Obs.park_name.unique())\n",
    "\n",
    "print(SpecInfo.category.unique())\n",
    "print(SpecInfo.scientific_name.nunique())\n",
    "print(SpecInfo.common_names.nunique())\n",
    "print(SpecInfo.conservation_status.unique())"
   ]
  },
  {
   "cell_type": "code",
   "execution_count": 4,
   "metadata": {},
   "outputs": [
    {
     "name": "stdout",
     "output_type": "stream",
     "text": [
      "  conservation_status  scientific_name\n",
      "0          Endangered               15\n",
      "1         In Recovery                4\n",
      "2     No Intervention             5363\n",
      "3  Species of Concern              151\n",
      "4          Threatened               10\n"
     ]
    }
   ],
   "source": [
    "SpecInfo.fillna('No Intervention', inplace = True)\n",
    "print(SpecInfo.groupby('conservation_status').scientific_name.nunique().reset_index())\n",
    "#No Intervention filling in for the 5363 NaN values in SpecInfo.conservation_status\n",
    "\n",
    "ProSpec = SpecInfo.groupby('conservation_status').scientific_name.nunique().reset_index().sort_values(by = 'scientific_name')"
   ]
  },
  {
   "cell_type": "code",
   "execution_count": 5,
   "metadata": {},
   "outputs": [
    {
     "data": {
      "image/png": "[encoded data removed]",
      "text/plain": [
       "<Figure size 1000x400 with 1 Axes>"
      ]
     },
     "metadata": {},
     "output_type": "display_data"
    }
   ],
   "source": [
    "plt.figure(figsize = (10, 4))\n",
    "ax = plt.subplot()\n",
    "\n",
    "plt.bar(range(len(ProSpec)), ProSpec.scientific_name, color = \"purple\")\n",
    "ax.set_xticks(range(len(ProSpec)))\n",
    "ax.set_xticklabels(ProSpec.conservation_status)\n",
    "plt.ylabel(\"Number of Species\")\n",
    "plt.title(\"Conservation Status by Species\")\n",
    "plt.show()"
   ]
  },
  {
   "cell_type": "code",
   "execution_count": 6,
   "metadata": {},
   "outputs": [
    {
     "name": "stdout",
     "output_type": "stream",
     "text": [
      "  category                scientific_name  \\\n",
      "0   Mammal  Clethrionomys gapperi gapperi   \n",
      "1   Mammal                      Bos bison   \n",
      "2   Mammal                     Bos taurus   \n",
      "3   Mammal                     Ovis aries   \n",
      "4   Mammal                 Cervus elaphus   \n",
      "\n",
      "                                        common_names conservation_status  \\\n",
      "0                           Gapper's Red-Backed Vole     No Intervention   \n",
      "1                              American Bison, Bison     No Intervention   \n",
      "2  Aurochs, Aurochs, Domestic Cattle (Feral), Dom...     No Intervention   \n",
      "3  Domestic Sheep, Mouflon, Red Sheep, Sheep (Feral)     No Intervention   \n",
      "4                                      Wapiti Or Elk     No Intervention   \n",
      "\n",
      "   is_protected  \n",
      "0         False  \n",
      "1         False  \n",
      "2         False  \n",
      "3         False  \n",
      "4         False  \n"
     ]
    }
   ],
   "source": [
    "SpecInfo['is_protected'] = SpecInfo.conservation_status != 'No Intervention'\n",
    "print(SpecInfo.head(5))"
   ]
  },
  {
   "cell_type": "code",
   "execution_count": 7,
   "metadata": {},
   "outputs": [
    {
     "data": {
      "text/html": [
       "<div>\n",
       "<style scoped>\n",
       "    .dataframe tbody tr th:only-of-type {\n",
       "        vertical-align: middle;\n",
       "    }\n",
       "\n",
       "    .dataframe tbody tr th {\n",
       "        vertical-align: top;\n",
       "    }\n",
       "\n",
       "    .dataframe thead th {\n",
       "        text-align: right;\n",
       "    }\n",
       "</style>\n",
       "<table border=\"1\" class=\"dataframe\">\n",
       "  <thead>\n",
       "    <tr style=\"text-align: right;\">\n",
       "      <th></th>\n",
       "      <th>category</th>\n",
       "      <th>is_protected</th>\n",
       "      <th>scientific_name</th>\n",
       "    </tr>\n",
       "  </thead>\n",
       "  <tbody>\n",
       "    <tr>\n",
       "      <th>0</th>\n",
       "      <td>Amphibian</td>\n",
       "      <td>False</td>\n",
       "      <td>72</td>\n",
       "    </tr>\n",
       "    <tr>\n",
       "      <th>1</th>\n",
       "      <td>Amphibian</td>\n",
       "      <td>True</td>\n",
       "      <td>7</td>\n",
       "    </tr>\n",
       "    <tr>\n",
       "      <th>2</th>\n",
       "      <td>Bird</td>\n",
       "      <td>False</td>\n",
       "      <td>413</td>\n",
       "    </tr>\n",
       "    <tr>\n",
       "      <th>3</th>\n",
       "      <td>Bird</td>\n",
       "      <td>True</td>\n",
       "      <td>75</td>\n",
       "    </tr>\n",
       "    <tr>\n",
       "      <th>4</th>\n",
       "      <td>Fish</td>\n",
       "      <td>False</td>\n",
       "      <td>115</td>\n",
       "    </tr>\n",
       "    <tr>\n",
       "      <th>5</th>\n",
       "      <td>Fish</td>\n",
       "      <td>True</td>\n",
       "      <td>11</td>\n",
       "    </tr>\n",
       "    <tr>\n",
       "      <th>6</th>\n",
       "      <td>Mammal</td>\n",
       "      <td>False</td>\n",
       "      <td>146</td>\n",
       "    </tr>\n",
       "    <tr>\n",
       "      <th>7</th>\n",
       "      <td>Mammal</td>\n",
       "      <td>True</td>\n",
       "      <td>30</td>\n",
       "    </tr>\n",
       "    <tr>\n",
       "      <th>8</th>\n",
       "      <td>Nonvascular Plant</td>\n",
       "      <td>False</td>\n",
       "      <td>328</td>\n",
       "    </tr>\n",
       "    <tr>\n",
       "      <th>9</th>\n",
       "      <td>Nonvascular Plant</td>\n",
       "      <td>True</td>\n",
       "      <td>5</td>\n",
       "    </tr>\n",
       "  </tbody>\n",
       "</table>\n",
       "</div>"
      ],
      "text/plain": [
       "            category  is_protected  scientific_name\n",
       "0          Amphibian         False               72\n",
       "1          Amphibian          True                7\n",
       "2               Bird         False              413\n",
       "3               Bird          True               75\n",
       "4               Fish         False              115\n",
       "5               Fish          True               11\n",
       "6             Mammal         False              146\n",
       "7             Mammal          True               30\n",
       "8  Nonvascular Plant         False              328\n",
       "9  Nonvascular Plant          True                5"
      ]
     },
     "execution_count": 7,
     "metadata": {},
     "output_type": "execute_result"
    }
   ],
   "source": [
    "CatCount = SpecInfo.groupby(['category', 'is_protected']).scientific_name.nunique().reset_index()\n",
    "CatCount.head(10)"
   ]
  },
  {
   "cell_type": "code",
   "execution_count": 8,
   "metadata": {},
   "outputs": [
    {
     "name": "stdout",
     "output_type": "stream",
     "text": [
      "            category  not_protected  protected  percent_protected\n",
      "0          Amphibian             72          7           0.088608\n",
      "1               Bird            413         75           0.153689\n",
      "2               Fish            115         11           0.087302\n",
      "3             Mammal            146         30           0.170455\n",
      "4  Nonvascular Plant            328          5           0.015015\n",
      "5            Reptile             73          5           0.064103\n",
      "6     Vascular Plant           4216         46           0.010793\n"
     ]
    }
   ],
   "source": [
    "CatPivot = CatCount.pivot(columns = 'is_protected', index = 'category', values = 'scientific_name').reset_index()\n",
    "CatPivot.columns = ['category', 'not_protected', 'protected']\n",
    "CatPivot['percent_protected'] = (CatPivot.protected / (CatPivot.protected + CatPivot.not_protected))\n",
    "print(CatPivot)"
   ]
  },
  {
   "cell_type": "code",
   "execution_count": 9,
   "metadata": {},
   "outputs": [
    {
     "data": {
      "text/plain": [
       "Chi2ContingencyResult(statistic=3.739654778685496, pvalue=0.053135422321542065, dof=1, expected_freq=array([[ 11.02473498,  66.97526502],\n",
       "       [ 68.97526502, 419.02473498]]))"
      ]
     },
     "execution_count": 9,
     "metadata": {},
     "output_type": "execute_result"
    }
   ],
   "source": [
    "#Significance between birds and mammals\n",
    "Conting = [[30,146],\n",
    "           [75,413]]\n",
    "chi2_contingency(Conting)\n",
    "#p-value of 0.688: Not Significant\n",
    "\n",
    "#Significance between fish and amphibians\n",
    "Conting2 = [[7, 72],\n",
    "            [11, 115]]\n",
    "chi2_contingency(Conting2)\n",
    "#p-value of 1: Not Significant\n",
    "\n",
    "#Significance between reptiles and birds\n",
    "Conting3 = [[5, 73],\n",
    "            [75, 413]]\n",
    "chi2_contingency(Conting3)\n",
    "#p-value of 0.053: Statistcal Significance"
   ]
  },
  {
   "cell_type": "code",
   "execution_count": null,
   "metadata": {},
   "outputs": [],
   "source": []
  }
 ],
 "metadata": {
  "kernelspec": {
   "display_name": "Python 3 (ipykernel)",
   "language": "python",
   "name": "python3"
  },
  "language_info": {
   "codemirror_mode": {
    "name": "ipython",
    "version": 3
   },
   "file_extension": ".py",
   "mimetype": "text/x-python",
   "name": "python",
   "nbconvert_exporter": "python",
   "pygments_lexer": "ipython3",
   "version": "3.11.7"
  }
 },
 "nbformat": 4,
 "nbformat_minor": 4
}
